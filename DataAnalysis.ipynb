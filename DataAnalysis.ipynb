{
 "cells": [
  {
   "cell_type": "markdown",
   "id": "7467769a",
   "metadata": {},
   "source": [
    "# HR Analytics Dashboard: Employee Attrition\n",
    "\n",
    "This project explores the contributing factors to employee attrition based on real-world data adopted from Kaggle. The goal is to answer the following questions: \n",
    "\n",
    "1. What is the correlation between attrition and demographics, compensation, work style, and employee attitude? \n",
    "2. What is the correlation among the dimensions, i.e. demographics, compensation, work style, and employee attitude? \n",
    "3. What is most predictive of attrition among these variables? \n",
    "4. What are some actionable suggestions for reducing attrition? \n",
    "\n",
    "This project is the first research practice of FireHua Consulting LLC. \n",
    "\n",
    "*📥 To run this notebook, download the dataset [here](./Cleaned_Employee_Data.xlsx) and make sure it is in the same folder as this notebook.*"
   ]
  },
  {
   "cell_type": "code",
   "execution_count": null,
   "id": "46f4b50a",
   "metadata": {},
   "outputs": [],
   "source": [
    "# Import packages\n",
    "import pandas as pd\n",
    "import seaborn as sns\n",
    "import matplotlib.pyplot as plt\n",
    "from scipy.stats import pearsonr"
   ]
  },
  {
   "cell_type": "markdown",
   "id": "3108f9bf",
   "metadata": {},
   "source": [
    "## Dataset Overview\n",
    "\n",
    "The original dataset contains data in various domains, where some examples include employee IDs and hourly rates. After careful review of data, those of interest are organized into a separate worksheet within the original Excel file. \n",
    "\n",
    "Key variables of interest include: \n",
    "- **Attrition**: *Target variable*, encoded to binary numbers, \"1\" indicating \"Yes\" and \"0\" indicating \"No\" for attrition. \n",
    "- **Demographics**: Age, Total Working Years, Education\n",
    "- **Work Style**: Over Time, Work Life Balance\n",
    "- **Compensation**: Monthly Income, Percentage Salary Hike, Stock Option Level, Years Since Last Promotion\n",
    "- **Employee attitude**: Environment Satisfaction, Job Satisfaction, Relationship Satisfaction, Total Satisfaction Score\n",
    "\n",
    "The exact definitions, units, and coding explanations are included in the worksheet named *\"Variables\"* within the Excel file. "
   ]
  },
  {
   "cell_type": "code",
   "execution_count": null,
   "id": "a27a6023",
   "metadata": {},
   "outputs": [],
   "source": [
    "# Load the cleaned dataset from the uploaded Excel file\n",
    "file_path = \"Cleaned_Employee_Data.xlsx\"\n",
    "df = pd.read_excel(file_path, sheet_name=\"Cleaned Data\")\n",
    "\n",
    "# Show the first few rows of the dataset to confirm successful load\n",
    "print(df.head())"
   ]
  },
  {
   "cell_type": "markdown",
   "id": "c3a6609e",
   "metadata": {},
   "source": [
    "## Create Functions for Correlational Analysis\n",
    "\n",
    "To answer the first question (*What is the correlation between attrition and demographics, compensation, work style, and employee attitude?*), we need to run a correlational analysis that provides both the correlation coefficients and p-value (set to *p<0.05*) indicating their statistical significance. The correlational analysis used in this project is **Pearson coefficient**. Upon calculation, we also need to store them into the a dataset for clear presentation. Therefore, the function created below serves two purposes: \n",
    "\n",
    "1. Run Pearson correlational analysis for each variable. \n",
    "2. Store results in one place. "
   ]
  },
  {
   "cell_type": "code",
   "execution_count": null,
   "id": "24d08cfe",
   "metadata": {},
   "outputs": [],
   "source": [
    "# Function for running and storing each correlation comparison \n",
    "def get_correlation_table(df, target, predictors, significance_level=0.05):\n",
    "    results = []\n",
    "\n",
    "    for col in predictors:\n",
    "        if col == target:\n",
    "            continue\n",
    "        try:\n",
    "            r, p = pearsonr(df[target], df[col])\n",
    "            results.append({\n",
    "                \"Variable\": col,\n",
    "                \"Correlation (r)\": round(r, 2),\n",
    "                \"P-value\": round(p, 5),\n",
    "                \"Significant (p < 0.05)\": \"Yes\" if p < significance_level else \"No\"\n",
    "            })\n",
    "        except Exception as e:\n",
    "            results.append({\n",
    "                \"Variable\": col,\n",
    "                \"Correlation (r)\": \"ERROR\",\n",
    "                \"P-value\": str(e),\n",
    "                \"Significant (p < 0.05)\": \"No\"\n",
    "            })\n",
    "\n",
    "    return pd.DataFrame(results)"
   ]
  },
  {
   "cell_type": "markdown",
   "id": "8e0904ca",
   "metadata": {},
   "source": [
    "## Run Function and Get Results\n",
    "\n",
    "With the function ready, we can start the actual data analysis. It includes three parts: \n",
    "1. Define variables of interest \n",
    "2. Run correlational analysis\n",
    "3. Store results into a new Excel file "
   ]
  },
  {
   "cell_type": "code",
   "execution_count": null,
   "id": "3cea2fa4",
   "metadata": {},
   "outputs": [],
   "source": [
    "## Define variables of interest \n",
    "# Attrition vs Demographics\n",
    "attr_demographics = [\n",
    "    \"Attrition\", \n",
    "    \"Age\", \n",
    "    \"Total Working Years\", \n",
    "    \"Education\"\n",
    "]\n",
    "# Attrition vs Work Style\n",
    "attr_work_style = [\n",
    "    \"Over Time\", \n",
    "    \"Work Life Balance\"\n",
    "]\n",
    "# Attrition vs Compensation\n",
    "attr_compensation = [\n",
    "    \"Monthly Income\", \n",
    "    \"Percent Salary Hike\", \n",
    "    \"Stock Option Level\", \n",
    "    \"Years Since Last Promotion\"\n",
    "]\n",
    "# Attrition vs Employee Attitude\n",
    "attr_satisfaction = [\n",
    "    \"Environment Satisfaction\", \n",
    "    \"Job Satisfaction\", \n",
    "    \"Relationship Satisfaction\", \n",
    "    \"Total Satisfaction Score\"\n",
    "]\n",
    "\n",
    "## Run correlational analysis\n",
    "attr_demo_corr = get_correlation_table(df, target=\"Attrition\", predictors=attr_demographics)\n",
    "attr_style_corr = get_correlation_table(df, target=\"Attrition\", predictors=attr_work_style)\n",
    "attr_comp_corr = get_correlation_table(df, target=\"Attrition\", predictors=attr_compensation)\n",
    "attr_sat_corr = get_correlation_table(df, target=\"Attrition\", predictors=attr_satisfaction)\n",
    "\n",
    "## Store results \n",
    "with pd.ExcelWriter(\"correlation_results.xlsx\", \n",
    "  mode=\"w\", \n",
    "  engine=\"openpyxl\") as writer:\n",
    "    attr_demo_corr.to_excel(writer, sheet_name=\"Attr_Demo\")\n",
    "    attr_style_corr.to_excel(writer, sheet_name=\"Attr_Work_Style\")\n",
    "    attr_comp_corr.to_excel(writer, sheet_name=\"Attr_Comp\")\n",
    "    attr_sat_corr.to_excel(writer, sheet_name=\"Attr_Sat\")"
   ]
  },
  {
   "cell_type": "markdown",
   "id": "940a2bab",
   "metadata": {},
   "source": [
    "## Correlational Analysis (Excel Visualization)\n",
    "![Correlation Bar Chart](Attr_Var_Corr.png)"
   ]
  }
 ],
 "metadata": {
  "language_info": {
   "name": "python"
  }
 },
 "nbformat": 4,
 "nbformat_minor": 5
}
