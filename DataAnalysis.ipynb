{
 "cells": [
  {
   "cell_type": "markdown",
   "id": "7467769a",
   "metadata": {},
   "source": [
    "# HR Analytics Dashboard: Employee Attrition\n",
    "\n",
    "This project explores the contributing factors to employee attrition based on real-world data adopted from Kaggle. The goal is to answer the following questions: \n",
    "\n",
    "1. What is the correlation between attrition and demographics, compensation, work style, and employee attitude? \n",
    "2. What is the correlation among the dimensions, i.e. demographics, compensation, work style, and employee attitude? \n",
    "3. What is most predictive of attrition among these variables? \n",
    "4. What are some actionable suggestions for reducing attrition? \n",
    "\n",
    "This project is the first research practice of FireHua Consulting LLC. \n",
    "\n",
    "*📥 To run this notebook, download the dataset [here](./Cleaned_Employee_Data.xlsx) and make sure it is in the same folder as this notebook.*"
   ]
  },
  {
   "cell_type": "code",
   "execution_count": 1,
   "id": "46f4b50a",
   "metadata": {},
   "outputs": [],
   "source": [
    "# Import packages\n",
    "import pandas as pd\n",
    "import seaborn as sns\n",
    "import matplotlib.pyplot as plt\n",
    "from scipy.stats import pearsonr"
   ]
  },
  {
   "cell_type": "markdown",
   "id": "3108f9bf",
   "metadata": {},
   "source": [
    "## Dataset Overview\n",
    "\n",
    "The original dataset contains data in various domains, where some examples include employee IDs and hourly rates. After careful review of data, those of interest are organized into a separate worksheet within the original Excel file. \n",
    "\n",
    "Key variables of interest include: \n",
    "- **Attrition**: *Target variable*, encoded to binary numbers, \"1\" indicating \"Yes\" and \"0\" indicating \"No\" for attrition. \n",
    "- **Demographics**: Age, Total Working Years, Education\n",
    "- **Work Style**: Over Time, Work Life Balance\n",
    "- **Compensation**: Monthly Income, Percentage Salary Hike, Stock Option Level, Years Since Last Promotion\n",
    "- **Employee attitude**: Environment Satisfaction, Job Satisfaction, Relationship Satisfaction, Total Satisfaction Score\n",
    "\n",
    "The exact definitions, units, and coding explanations are included in the worksheet named *\"Variables\"* within the Excel file. "
   ]
  },
  {
   "cell_type": "code",
   "execution_count": 2,
   "id": "a27a6023",
   "metadata": {},
   "outputs": [
    {
     "name": "stdout",
     "output_type": "stream",
     "text": [
      "   Attrition  Age  Total Working Years  Education  Over Time  \\\n",
      "0          1   41                    8          2          1   \n",
      "1          0   49                   10          1          0   \n",
      "2          1   37                    7          2          1   \n",
      "3          0   33                    8          4          1   \n",
      "4          0   27                    6          1          0   \n",
      "\n",
      "   Work Life Balance  Monthly Income  Percent Salary Hike  Stock Option Level  \\\n",
      "0                  1            5993                   11                   0   \n",
      "1                  3            5130                   23                   1   \n",
      "2                  3            2090                   15                   0   \n",
      "3                  3            2909                   11                   0   \n",
      "4                  3            3468                   12                   1   \n",
      "\n",
      "   Years Since Last Promotion  Environment Satisfaction  Job Satisfaction  \\\n",
      "0                           0                         2                 4   \n",
      "1                           1                         3                 2   \n",
      "2                           0                         4                 3   \n",
      "3                           3                         4                 3   \n",
      "4                           2                         1                 2   \n",
      "\n",
      "   Relationship Satisfaction  Total Satisfaction Score  \n",
      "0                          1                         7  \n",
      "1                          4                         9  \n",
      "2                          2                         9  \n",
      "3                          3                        10  \n",
      "4                          4                         7  \n"
     ]
    }
   ],
   "source": [
    "# Load the cleaned dataset from the uploaded Excel file\n",
    "file_path = \"Cleaned_Employee_Data.xlsx\"\n",
    "df = pd.read_excel(file_path, sheet_name=\"Cleaned Data\")\n",
    "\n",
    "# Show the first few rows of the dataset to confirm successful load\n",
    "print(df.head())"
   ]
  },
  {
   "cell_type": "markdown",
   "id": "c3a6609e",
   "metadata": {},
   "source": [
    "## Correlational Analysis\n",
    "\n",
    "### Create Functions\n",
    "\n",
    "To answer the first question (*What is the correlation between attrition and demographics, compensation, work style, and employee attitude?*), we need to run a correlational analysis that provides both the correlation coefficients and p-value (set to *p<0.05*) indicating their statistical significance. The correlational analysis used in this project is **Pearson coefficient**. Upon calculation, we also need to store them into the a dataset for clear presentation. Therefore, the function created below serves two purposes: \n",
    "\n",
    "1. Run Pearson correlational analysis for each variable. \n",
    "2. Store results in one place. "
   ]
  },
  {
   "cell_type": "code",
   "execution_count": 3,
   "id": "24d08cfe",
   "metadata": {},
   "outputs": [],
   "source": [
    "# Function for running and storing each correlation comparison \n",
    "def get_correlation_table(df, target, predictors, significance_level=0.05):\n",
    "    results = []\n",
    "\n",
    "    for col in predictors:\n",
    "        if col == target:\n",
    "            continue\n",
    "        try:\n",
    "            r, p = pearsonr(df[target], df[col])\n",
    "            results.append({\n",
    "                \"Variable\": col,\n",
    "                \"Correlation (r)\": round(r, 2),\n",
    "                \"P-value\": round(p, 5),\n",
    "                \"Significant (p < 0.05)\": \"Yes\" if p < significance_level else \"No\"\n",
    "            })\n",
    "        except Exception as e:\n",
    "            results.append({\n",
    "                \"Variable\": col,\n",
    "                \"Correlation (r)\": \"ERROR\",\n",
    "                \"P-value\": str(e),\n",
    "                \"Significant (p < 0.05)\": \"No\"\n",
    "            })\n",
    "\n",
    "    return pd.DataFrame(results)"
   ]
  },
  {
   "cell_type": "markdown",
   "id": "8e0904ca",
   "metadata": {},
   "source": [
    "### Run Function and Get Results\n",
    "\n",
    "With the function ready, we can start the actual data analysis. It includes three parts: \n",
    "1. Define variables of interest \n",
    "2. Run correlational analysis\n",
    "3. Store results into a new Excel file "
   ]
  },
  {
   "cell_type": "code",
   "execution_count": null,
   "id": "3cea2fa4",
   "metadata": {},
   "outputs": [
    {
     "ename": "PermissionError",
     "evalue": "[Errno 13] Permission denied: 'correlation_results.xlsx'",
     "output_type": "error",
     "traceback": [
      "\u001b[1;31m---------------------------------------------------------------------------\u001b[0m",
      "\u001b[1;31mPermissionError\u001b[0m                           Traceback (most recent call last)",
      "Cell \u001b[1;32mIn[4], line 36\u001b[0m\n\u001b[0;32m     33\u001b[0m attr_sat_corr \u001b[38;5;241m=\u001b[39m get_correlation_table(df, target\u001b[38;5;241m=\u001b[39m\u001b[38;5;124m\"\u001b[39m\u001b[38;5;124mAttrition\u001b[39m\u001b[38;5;124m\"\u001b[39m, predictors\u001b[38;5;241m=\u001b[39mattr_satisfaction)\n\u001b[0;32m     35\u001b[0m \u001b[38;5;66;03m## Store results \u001b[39;00m\n\u001b[1;32m---> 36\u001b[0m \u001b[38;5;28;01mwith\u001b[39;00m \u001b[43mpd\u001b[49m\u001b[38;5;241;43m.\u001b[39;49m\u001b[43mExcelWriter\u001b[49m\u001b[43m(\u001b[49m\u001b[38;5;124;43m\"\u001b[39;49m\u001b[38;5;124;43mcorrelation_results.xlsx\u001b[39;49m\u001b[38;5;124;43m\"\u001b[39;49m\u001b[43m,\u001b[49m\u001b[43m \u001b[49m\n\u001b[0;32m     37\u001b[0m \u001b[43m  \u001b[49m\u001b[43mmode\u001b[49m\u001b[38;5;241;43m=\u001b[39;49m\u001b[38;5;124;43m\"\u001b[39;49m\u001b[38;5;124;43mw\u001b[39;49m\u001b[38;5;124;43m\"\u001b[39;49m\u001b[43m,\u001b[49m\u001b[43m \u001b[49m\n\u001b[0;32m     38\u001b[0m \u001b[43m  \u001b[49m\u001b[43mengine\u001b[49m\u001b[38;5;241;43m=\u001b[39;49m\u001b[38;5;124;43m\"\u001b[39;49m\u001b[38;5;124;43mopenpyxl\u001b[39;49m\u001b[38;5;124;43m\"\u001b[39;49m\u001b[43m)\u001b[49m \u001b[38;5;28;01mas\u001b[39;00m writer:\n\u001b[0;32m     39\u001b[0m     attr_demo_corr\u001b[38;5;241m.\u001b[39mto_excel(writer, sheet_name\u001b[38;5;241m=\u001b[39m\u001b[38;5;124m\"\u001b[39m\u001b[38;5;124mAttr_Demo\u001b[39m\u001b[38;5;124m\"\u001b[39m)\n\u001b[0;32m     40\u001b[0m     attr_style_corr\u001b[38;5;241m.\u001b[39mto_excel(writer, sheet_name\u001b[38;5;241m=\u001b[39m\u001b[38;5;124m\"\u001b[39m\u001b[38;5;124mAttr_Work_Style\u001b[39m\u001b[38;5;124m\"\u001b[39m)\n",
      "File \u001b[1;32mc:\\Users\\candy\\AppData\\Local\\Programs\\Python\\Python310\\lib\\site-packages\\pandas\\io\\excel\\_openpyxl.py:61\u001b[0m, in \u001b[0;36mOpenpyxlWriter.__init__\u001b[1;34m(self, path, engine, date_format, datetime_format, mode, storage_options, if_sheet_exists, engine_kwargs, **kwargs)\u001b[0m\n\u001b[0;32m     57\u001b[0m \u001b[38;5;28;01mfrom\u001b[39;00m\u001b[38;5;250m \u001b[39m\u001b[38;5;21;01mopenpyxl\u001b[39;00m\u001b[38;5;21;01m.\u001b[39;00m\u001b[38;5;21;01mworkbook\u001b[39;00m\u001b[38;5;250m \u001b[39m\u001b[38;5;28;01mimport\u001b[39;00m Workbook\n\u001b[0;32m     59\u001b[0m engine_kwargs \u001b[38;5;241m=\u001b[39m combine_kwargs(engine_kwargs, kwargs)\n\u001b[1;32m---> 61\u001b[0m \u001b[38;5;28;43msuper\u001b[39;49m\u001b[43m(\u001b[49m\u001b[43m)\u001b[49m\u001b[38;5;241;43m.\u001b[39;49m\u001b[38;5;21;43m__init__\u001b[39;49m\u001b[43m(\u001b[49m\n\u001b[0;32m     62\u001b[0m \u001b[43m    \u001b[49m\u001b[43mpath\u001b[49m\u001b[43m,\u001b[49m\n\u001b[0;32m     63\u001b[0m \u001b[43m    \u001b[49m\u001b[43mmode\u001b[49m\u001b[38;5;241;43m=\u001b[39;49m\u001b[43mmode\u001b[49m\u001b[43m,\u001b[49m\n\u001b[0;32m     64\u001b[0m \u001b[43m    \u001b[49m\u001b[43mstorage_options\u001b[49m\u001b[38;5;241;43m=\u001b[39;49m\u001b[43mstorage_options\u001b[49m\u001b[43m,\u001b[49m\n\u001b[0;32m     65\u001b[0m \u001b[43m    \u001b[49m\u001b[43mif_sheet_exists\u001b[49m\u001b[38;5;241;43m=\u001b[39;49m\u001b[43mif_sheet_exists\u001b[49m\u001b[43m,\u001b[49m\n\u001b[0;32m     66\u001b[0m \u001b[43m    \u001b[49m\u001b[43mengine_kwargs\u001b[49m\u001b[38;5;241;43m=\u001b[39;49m\u001b[43mengine_kwargs\u001b[49m\u001b[43m,\u001b[49m\n\u001b[0;32m     67\u001b[0m \u001b[43m\u001b[49m\u001b[43m)\u001b[49m\n\u001b[0;32m     69\u001b[0m \u001b[38;5;66;03m# ExcelWriter replaced \"a\" by \"r+\" to allow us to first read the excel file from\u001b[39;00m\n\u001b[0;32m     70\u001b[0m \u001b[38;5;66;03m# the file and later write to it\u001b[39;00m\n\u001b[0;32m     71\u001b[0m \u001b[38;5;28;01mif\u001b[39;00m \u001b[38;5;124m\"\u001b[39m\u001b[38;5;124mr+\u001b[39m\u001b[38;5;124m\"\u001b[39m \u001b[38;5;129;01min\u001b[39;00m \u001b[38;5;28mself\u001b[39m\u001b[38;5;241m.\u001b[39m_mode:  \u001b[38;5;66;03m# Load from existing workbook\u001b[39;00m\n",
      "File \u001b[1;32mc:\\Users\\candy\\AppData\\Local\\Programs\\Python\\Python310\\lib\\site-packages\\pandas\\io\\excel\\_base.py:1246\u001b[0m, in \u001b[0;36mExcelWriter.__init__\u001b[1;34m(self, path, engine, date_format, datetime_format, mode, storage_options, if_sheet_exists, engine_kwargs)\u001b[0m\n\u001b[0;32m   1242\u001b[0m \u001b[38;5;28mself\u001b[39m\u001b[38;5;241m.\u001b[39m_handles \u001b[38;5;241m=\u001b[39m IOHandles(\n\u001b[0;32m   1243\u001b[0m     cast(IO[\u001b[38;5;28mbytes\u001b[39m], path), compression\u001b[38;5;241m=\u001b[39m{\u001b[38;5;124m\"\u001b[39m\u001b[38;5;124mcompression\u001b[39m\u001b[38;5;124m\"\u001b[39m: \u001b[38;5;28;01mNone\u001b[39;00m}\n\u001b[0;32m   1244\u001b[0m )\n\u001b[0;32m   1245\u001b[0m \u001b[38;5;28;01mif\u001b[39;00m \u001b[38;5;129;01mnot\u001b[39;00m \u001b[38;5;28misinstance\u001b[39m(path, ExcelWriter):\n\u001b[1;32m-> 1246\u001b[0m     \u001b[38;5;28mself\u001b[39m\u001b[38;5;241m.\u001b[39m_handles \u001b[38;5;241m=\u001b[39m \u001b[43mget_handle\u001b[49m\u001b[43m(\u001b[49m\n\u001b[0;32m   1247\u001b[0m \u001b[43m        \u001b[49m\u001b[43mpath\u001b[49m\u001b[43m,\u001b[49m\u001b[43m \u001b[49m\u001b[43mmode\u001b[49m\u001b[43m,\u001b[49m\u001b[43m \u001b[49m\u001b[43mstorage_options\u001b[49m\u001b[38;5;241;43m=\u001b[39;49m\u001b[43mstorage_options\u001b[49m\u001b[43m,\u001b[49m\u001b[43m \u001b[49m\u001b[43mis_text\u001b[49m\u001b[38;5;241;43m=\u001b[39;49m\u001b[38;5;28;43;01mFalse\u001b[39;49;00m\n\u001b[0;32m   1248\u001b[0m \u001b[43m    \u001b[49m\u001b[43m)\u001b[49m\n\u001b[0;32m   1249\u001b[0m \u001b[38;5;28mself\u001b[39m\u001b[38;5;241m.\u001b[39m_cur_sheet \u001b[38;5;241m=\u001b[39m \u001b[38;5;28;01mNone\u001b[39;00m\n\u001b[0;32m   1251\u001b[0m \u001b[38;5;28;01mif\u001b[39;00m date_format \u001b[38;5;129;01mis\u001b[39;00m \u001b[38;5;28;01mNone\u001b[39;00m:\n",
      "File \u001b[1;32mc:\\Users\\candy\\AppData\\Local\\Programs\\Python\\Python310\\lib\\site-packages\\pandas\\io\\common.py:882\u001b[0m, in \u001b[0;36mget_handle\u001b[1;34m(path_or_buf, mode, encoding, compression, memory_map, is_text, errors, storage_options)\u001b[0m\n\u001b[0;32m    873\u001b[0m         handle \u001b[38;5;241m=\u001b[39m \u001b[38;5;28mopen\u001b[39m(\n\u001b[0;32m    874\u001b[0m             handle,\n\u001b[0;32m    875\u001b[0m             ioargs\u001b[38;5;241m.\u001b[39mmode,\n\u001b[1;32m   (...)\u001b[0m\n\u001b[0;32m    878\u001b[0m             newline\u001b[38;5;241m=\u001b[39m\u001b[38;5;124m\"\u001b[39m\u001b[38;5;124m\"\u001b[39m,\n\u001b[0;32m    879\u001b[0m         )\n\u001b[0;32m    880\u001b[0m     \u001b[38;5;28;01melse\u001b[39;00m:\n\u001b[0;32m    881\u001b[0m         \u001b[38;5;66;03m# Binary mode\u001b[39;00m\n\u001b[1;32m--> 882\u001b[0m         handle \u001b[38;5;241m=\u001b[39m \u001b[38;5;28;43mopen\u001b[39;49m\u001b[43m(\u001b[49m\u001b[43mhandle\u001b[49m\u001b[43m,\u001b[49m\u001b[43m \u001b[49m\u001b[43mioargs\u001b[49m\u001b[38;5;241;43m.\u001b[39;49m\u001b[43mmode\u001b[49m\u001b[43m)\u001b[49m\n\u001b[0;32m    883\u001b[0m     handles\u001b[38;5;241m.\u001b[39mappend(handle)\n\u001b[0;32m    885\u001b[0m \u001b[38;5;66;03m# Convert BytesIO or file objects passed with an encoding\u001b[39;00m\n",
      "\u001b[1;31mPermissionError\u001b[0m: [Errno 13] Permission denied: 'correlation_results.xlsx'"
     ]
    }
   ],
   "source": [
    "## Define variables of interest \n",
    "# Attrition vs Demographics\n",
    "attr_demographics = [\n",
    "    \"Attrition\", \n",
    "    \"Age\", \n",
    "    \"Total Working Years\", \n",
    "    \"Education\"\n",
    "]\n",
    "# Attrition vs Work Style\n",
    "attr_work_style = [\n",
    "    \"Over Time\", \n",
    "    \"Work Life Balance\"\n",
    "]\n",
    "# Attrition vs Compensation\n",
    "attr_compensation = [\n",
    "    \"Monthly Income\", \n",
    "    \"Percent Salary Hike\", \n",
    "    \"Stock Option Level\", \n",
    "    \"Years Since Last Promotion\"\n",
    "]\n",
    "# Attrition vs Employee Attitude\n",
    "attr_satisfaction = [\n",
    "    \"Environment Satisfaction\", \n",
    "    \"Job Satisfaction\", \n",
    "    \"Relationship Satisfaction\", \n",
    "    \"Total Satisfaction Score\"\n",
    "]\n",
    "\n",
    "## Run correlational analysis\n",
    "attr_demo_corr = get_correlation_table(df, target=\"Attrition\", predictors=attr_demographics)\n",
    "attr_style_corr = get_correlation_table(df, target=\"Attrition\", predictors=attr_work_style)\n",
    "attr_comp_corr = get_correlation_table(df, target=\"Attrition\", predictors=attr_compensation)\n",
    "attr_sat_corr = get_correlation_table(df, target=\"Attrition\", predictors=attr_satisfaction)\n",
    "\n",
    "## Store results \n",
    "with pd.ExcelWriter(\"correlation_results.xlsx\", \n",
    "  mode=\"a\", \n",
    "  engine=\"openpyxl\") as writer:\n",
    "    attr_demo_corr.to_excel(writer, sheet_name=\"Attr_Demo\")\n",
    "    attr_style_corr.to_excel(writer, sheet_name=\"Attr_Work_Style\")\n",
    "    attr_comp_corr.to_excel(writer, sheet_name=\"Attr_Comp\")\n",
    "    attr_sat_corr.to_excel(writer, sheet_name=\"Attr_Sat\")"
   ]
  },
  {
   "cell_type": "markdown",
   "id": "940a2bab",
   "metadata": {},
   "source": [
    "### Excel Visualization\n",
    "![Correlation Bar Chart](Attr_Var_Corr.png)\n",
    "\n",
    "**Observations**: \n",
    "- 9 out of the 13 variables have statistically significant (*p < 0.05*) correlation with attrition, while only 6 are considered meaningful with a threshold of *r = .1* for meaningful correlation. The variables that are both significant and meaningful include **Over Time**, **Total Working Years**, **Monthly Income**, **Age**, **Total Satisfaction Score**, and **Stock Option Level**. \n",
    "- Out of the variables that are significant and meaningful, only **Over Time** is positively correlated with attrition, with a correlation of *r = .25*. While significant, none of the negative correlations are as high as **Over Time**, with the highest being **Total Working Years** (*r = -.17*). \n",
    "- Although **Environment Satisfaction**, **Job Satisfaction**, and **Relationship Satisfaction** appear either insignificant or not meaningful, the composite score **Total Satisfaction Score** is negatively correlated with attrition with a correlational coefficient of *r = -.15*. \n",
    "- 2 variables under the dimension of **Compensation** appear to be significant and meaningful, including **Total Working Years** (*r = -.17*) and **Monthly Income** (*r = -.16*). \n",
    "\n",
    "**Takeaways**: \n",
    "- **Over Time** likely has a relatively strong impact on attrition in this company and needs further investigation for causational effect. \n",
    "- **Compensation** seems to have a contributing impact on attrition, despite its smaller correlational coefficient compared to **Over Time**\n",
    "- Employee attitude is complicated and should be considered as a whole. The relationship between **Total Satisfaction Score** and its sub-variables is worth digging into. "
   ]
  },
  {
   "cell_type": "markdown",
   "id": "74c3cb1c",
   "metadata": {},
   "source": [
    "## Next Steps...\n",
    "\n",
    "Now that we have identified the variables that have significant and meaningful correlations with attrition, we need to investigate the causational effects. Therefore, the next step is to conduct *regression analysis* to test the predictive effects of these variables. \n"
   ]
  }
 ],
 "metadata": {
  "kernelspec": {
   "display_name": "Python 3",
   "language": "python",
   "name": "python3"
  },
  "language_info": {
   "codemirror_mode": {
    "name": "ipython",
    "version": 3
   },
   "file_extension": ".py",
   "mimetype": "text/x-python",
   "name": "python",
   "nbconvert_exporter": "python",
   "pygments_lexer": "ipython3",
   "version": "3.10.7"
  }
 },
 "nbformat": 4,
 "nbformat_minor": 5
}
