{
 "cells": [
  {
   "cell_type": "markdown",
   "id": "7467769a",
   "metadata": {},
   "source": [
    "# HR Analytics Dashboard: Employee Attrition\n",
    "\n",
    "This project explores the contributing factors to employee attrition based on real-world data adopted from Kaggle. The goal is to answer the following questions: \n",
    "\n",
    "1. What is the correlation between attrition and demographics, compensation, work style, and employee attitude? \n",
    "2. What is the correlation among the dimensions, i.e. demographics, compensation, work style, and employee attitude? \n",
    "3. What is most predictive of attrition among these variables? \n",
    "4. What are some actionable suggestions for reducing attrition? \n",
    "\n",
    "This project is the first research practice of FireHua Consulting LLC. \n",
    "\n",
    "*To run this notebook, download the dataset [here](./data/Cleaned_Employee_Data.xlsx) and make sure it is in the same folder as this notebook.*"
   ]
  },
  {
   "cell_type": "code",
   "execution_count": 1,
   "id": "46f4b50a",
   "metadata": {},
   "outputs": [],
   "source": [
    "# Import packages\n",
    "import pandas as pd\n",
    "import seaborn as sns\n",
    "import matplotlib.pyplot as plt\n",
    "from scipy.stats import pearsonr"
   ]
  },
  {
   "cell_type": "markdown",
   "id": "3108f9bf",
   "metadata": {},
   "source": [
    "## Dataset Overview\n",
    "\n",
    "The original dataset contains data in various domains, where some examples include employee IDs, hourly rates, and employee performances. After careful review of data, those of interest are organized into a separate worksheet within the original Excel file. The exact definitions, units, and coding explanations for each variable are included in the worksheet named *\"Variables\"* within the Excel file. To access the full dataset, download [here](./data/Cleaned_Employee_Data.xlsx) and refer to the worksheet named \"**Main Data**.\" \n"
   ]
  },
  {
   "cell_type": "markdown",
   "id": "7983c733",
   "metadata": {},
   "source": [
    "## Data Cleanning\n",
    "\n",
    "While observing data, I categorized them into several dimensions, including **Dependent Variable**, **Demographics**, **Work Style/Mode**, **Work Type/Tenure**, **Compensation/Promotion**, **Employee Attitude**, **Employee Performance**, **Dummy Coded and Other Variables**. With this neatly cleaned dataset, I defined my goal and decided to focus on the correlation between the dependent variable, **Attrition**, and four dimensions (**Demographics**, **Work Style/Mode**, **Compensation/Promotion**, **Employee Attitude**). \n",
    "\n",
    "### Variable Screening\n",
    "\n",
    "Within each dimension, I screened the dataset and excluded invalid variables. Some examples are: \n",
    "* **Hourly rate** was excluded because of its unrealistic figure (66) and missing units. \n",
    "* **Daily rate** and **Monthly rate** are excluded due to their extremely low correlation (*r = 0.02*). \n",
    "* **Employee ID** and other dummy variables were dropped due to their irrelevance.  \n",
    "* **Age** is removed because of its high correlation with **total working years**. \n",
    "\n",
    "Some other variables were removed for similar reasons. In total, 14 variables (including **Attrition**) were retained for data analysis. The variables and their corresponding dimensions are listed below: \n",
    "\n",
    "* **Demographics**: total working years, gender, education, marital status. \n",
    "* **Work Style/Mode**: overtime, work life balance. \n",
    "* **Compensation/Promotion**: monthly income, percent salary hike, stock option level, years since last promotion. \n",
    "* **Employee Attitude**: environment satisfaction, job satisfaction, relationship satisfaction. \n",
    "\n",
    "These new variables are then stored in a separate worksheet named \"*Cleaned Data*\", which is the main file for analysis in this project. "
   ]
  },
  {
   "cell_type": "code",
   "execution_count": null,
   "id": "a27a6023",
   "metadata": {},
   "outputs": [
    {
     "name": "stdout",
     "output_type": "stream",
     "text": [
      "   Attrition  Age  Total Working Years  Education  Over Time  \\\n",
      "0          1   41                    8          2          1   \n",
      "1          0   49                   10          1          0   \n",
      "2          1   37                    7          2          1   \n",
      "3          0   33                    8          4          1   \n",
      "4          0   27                    6          1          0   \n",
      "\n",
      "   Work Life Balance  Monthly Income  Percent Salary Hike  Stock Option Level  \\\n",
      "0                  1            5993                   11                   0   \n",
      "1                  3            5130                   23                   1   \n",
      "2                  3            2090                   15                   0   \n",
      "3                  3            2909                   11                   0   \n",
      "4                  3            3468                   12                   1   \n",
      "\n",
      "   Years Since Last Promotion  Environment Satisfaction  Job Satisfaction  \\\n",
      "0                           0                         2                 4   \n",
      "1                           1                         3                 2   \n",
      "2                           0                         4                 3   \n",
      "3                           3                         4                 3   \n",
      "4                           2                         1                 2   \n",
      "\n",
      "   Relationship Satisfaction  Total Satisfaction Score  \n",
      "0                          1                         7  \n",
      "1                          4                         9  \n",
      "2                          2                         9  \n",
      "3                          3                        10  \n",
      "4                          4                         7  \n"
     ]
    }
   ],
   "source": [
    "# Load the cleaned dataset from the uploaded Excel file\n",
    "file_path = \"Cleaned_Employee_Data.xlsx\"\n",
    "df = pd.read_excel(file_path, sheet_name=\"Cleaned Data\")\n",
    "\n",
    "# Show the first few rows of the dataset to confirm successful load\n",
    "print(df.head())"
   ]
  },
  {
   "cell_type": "markdown",
   "id": "9e1062ee",
   "metadata": {},
   "source": [
    "### Reliability Analysis\n",
    "\n",
    "To ensure internal consistency within each dimension, I conducted Cronbach’s alpha analysis (excluding **Demographics**, which are not expected to be consistent)."
   ]
  },
  {
   "cell_type": "code",
   "execution_count": null,
   "id": "829a54f2",
   "metadata": {},
   "outputs": [],
   "source": []
  },
  {
   "cell_type": "markdown",
   "id": "fdc65ef0",
   "metadata": {},
   "source": [
    "Because of…, I created a new variable named **Total Satisfaction Score** as the composite score for **Employee Attitude**. It is the sum of all three satisfaction variables and was calculated in Excel. \n",
    "\n",
    "As a result of this data cleaning process, a total of xx variables are retained in the worksheet named “*Cleaned Data*.” Now that all variables are properly categorized and cleaned, I ran a correlational analysis, starting by writing functions. "
   ]
  },
  {
   "cell_type": "code",
   "execution_count": null,
   "id": "0c1045f9",
   "metadata": {},
   "outputs": [],
   "source": []
  },
  {
   "cell_type": "markdown",
   "id": "c3a6609e",
   "metadata": {},
   "source": [
    "## Correlational Analysis\n",
    "\n",
    "### Create Functions\n",
    "\n",
    "To answer the first question (*What is the correlation between attrition and demographics, compensation, work style, and employee attitude?*), we need to run a correlational analysis that provides both the correlation coefficients and p-value (set to *p<0.05*) indicating their statistical significance. The correlational analysis used in this project is **Pearson coefficient**. Upon calculation, we also need to store them into the a dataset for clear presentation. Therefore, the function created below serves two purposes: \n",
    "\n",
    "1. Run Pearson correlational analysis for each variable. \n",
    "2. Store results in one place. "
   ]
  },
  {
   "cell_type": "code",
   "execution_count": 7,
   "id": "24d08cfe",
   "metadata": {},
   "outputs": [],
   "source": [
    "# Function for running and storing each correlation comparison \n",
    "def get_correlation_table(df, target, predictors, significance_level=0.05):\n",
    "    results = []\n",
    "\n",
    "    for col in predictors:\n",
    "        if col == target:\n",
    "            continue\n",
    "        try:\n",
    "            r, p = pearsonr(df[target], df[col])\n",
    "            results.append({\n",
    "                \"Variable\": col,\n",
    "                \"Correlation (r)\": round(r, 2),\n",
    "                \"P-value\": round(p, 5),\n",
    "                \"Significant (p < 0.05)\": \"Yes\" if p < significance_level else \"No\"\n",
    "            })\n",
    "        except Exception as e:\n",
    "            results.append({\n",
    "                \"Variable\": col,\n",
    "                \"Correlation (r)\": \"ERROR\",\n",
    "                \"P-value\": str(e),\n",
    "                \"Significant (p < 0.05)\": \"No\"\n",
    "            })\n",
    "\n",
    "    return pd.DataFrame(results)"
   ]
  },
  {
   "cell_type": "markdown",
   "id": "8e0904ca",
   "metadata": {},
   "source": [
    "### Run Function and Get Results\n",
    "\n",
    "With the function ready, we can start the actual data analysis. It includes three parts: \n",
    "1. Define variables of interest \n",
    "2. Run correlational analysis\n",
    "3. Store results into a new Excel file "
   ]
  },
  {
   "cell_type": "code",
   "execution_count": 8,
   "id": "3cea2fa4",
   "metadata": {},
   "outputs": [],
   "source": [
    "## Define variables of interest \n",
    "# Attrition vs Demographics\n",
    "attr_demographics = [\n",
    "    \"Attrition\", \n",
    "    \"Age\", \n",
    "    \"Total Working Years\", \n",
    "    \"Education\"\n",
    "]\n",
    "# Attrition vs Work Style\n",
    "attr_work_style = [\n",
    "    \"Over Time\", \n",
    "    \"Work Life Balance\"\n",
    "]\n",
    "# Attrition vs Compensation\n",
    "attr_compensation = [\n",
    "    \"Monthly Income\", \n",
    "    \"Percent Salary Hike\", \n",
    "    \"Stock Option Level\", \n",
    "    \"Years Since Last Promotion\"\n",
    "]\n",
    "# Attrition vs Employee Attitude\n",
    "attr_satisfaction = [\n",
    "    \"Environment Satisfaction\", \n",
    "    \"Job Satisfaction\", \n",
    "    \"Relationship Satisfaction\", \n",
    "    \"Total Satisfaction Score\"\n",
    "]\n",
    "\n",
    "## Run correlational analysis\n",
    "attr_demo_corr = get_correlation_table(df, target=\"Attrition\", predictors=attr_demographics)\n",
    "attr_style_corr = get_correlation_table(df, target=\"Attrition\", predictors=attr_work_style)\n",
    "attr_comp_corr = get_correlation_table(df, target=\"Attrition\", predictors=attr_compensation)\n",
    "attr_sat_corr = get_correlation_table(df, target=\"Attrition\", predictors=attr_satisfaction)\n",
    "\n",
    "## Store results \n",
    "with pd.ExcelWriter(\"correlation_results.xlsx\", \n",
    "  mode=\"w\", \n",
    "  engine=\"openpyxl\") as writer:\n",
    "    attr_demo_corr.to_excel(writer, sheet_name=\"Attr_Demo\")\n",
    "    attr_style_corr.to_excel(writer, sheet_name=\"Attr_Work_Style\")\n",
    "    attr_comp_corr.to_excel(writer, sheet_name=\"Attr_Comp\")\n",
    "    attr_sat_corr.to_excel(writer, sheet_name=\"Attr_Sat\")"
   ]
  },
  {
   "cell_type": "markdown",
   "id": "940a2bab",
   "metadata": {},
   "source": [
    "### Excel Visualization\n",
    "![Correlation Bar Chart](Attr_Var_Corr.png)\n",
    "\n",
    "**Observations**: \n",
    "- 9 out of the 13 variables have statistically significant (*p < 0.05*) correlation with attrition, while only 6 are considered meaningful with a threshold of *r = .1* for meaningful correlation. The variables that are both significant and meaningful include **Over Time**, **Total Working Years**, **Monthly Income**, **Age**, **Total Satisfaction Score**, and **Stock Option Level**. \n",
    "- Out of the variables that are significant and meaningful, only **Over Time** is positively correlated with attrition, with a correlation of *r = .25*. While significant, none of the negative correlations are as high as **Over Time**, with the highest being **Total Working Years** (*r = -.17*). \n",
    "- Although **Environment Satisfaction**, **Job Satisfaction**, and **Relationship Satisfaction** appear either insignificant or not meaningful, the composite score **Total Satisfaction Score** is negatively correlated with attrition with a correlational coefficient of *r = -.15*. \n",
    "- 2 variables under the dimension of **Compensation** appear to be significant and meaningful, including **Total Working Years** (*r = -.17*) and **Monthly Income** (*r = -.16*). \n",
    "\n",
    "**Takeaways**: \n",
    "- **Over Time** likely has a relatively strong impact on attrition in this company and needs further investigation for causational effect. \n",
    "- **Compensation** seems to have a contributing impact on attrition, despite its smaller correlational coefficient compared to **Over Time**\n",
    "- Employee attitude is complicated and should be considered as a whole. The relationship between **Total Satisfaction Score** and its sub-variables is worth digging into. "
   ]
  },
  {
   "cell_type": "markdown",
   "id": "74c3cb1c",
   "metadata": {},
   "source": [
    "## Next Steps...\n",
    "\n",
    "Now that we have identified the variables that have significant and meaningful correlations with attrition, we need to investigate the causational effects. Therefore, the next step is to conduct *regression analysis* to test the predictive effects of these variables. \n"
   ]
  }
 ],
 "metadata": {
  "kernelspec": {
   "display_name": "Python 3",
   "language": "python",
   "name": "python3"
  },
  "language_info": {
   "codemirror_mode": {
    "name": "ipython",
    "version": 3
   },
   "file_extension": ".py",
   "mimetype": "text/x-python",
   "name": "python",
   "nbconvert_exporter": "python",
   "pygments_lexer": "ipython3",
   "version": "3.10.7"
  }
 },
 "nbformat": 4,
 "nbformat_minor": 5
}
