{
 "cells": [
  {
   "cell_type": "markdown",
   "id": "7467769a",
   "metadata": {},
   "source": [
    "# HR Analytics Dashboard: Employee Attrition\n",
    "\n",
    "This project explores the contributing factors to employee attrition based on real-world data adopted from Kaggle. The goal is to answer the following questions: \n",
    "\n",
    "1. What is the correlation between attrition and demographics, compensation, work style, and employee attitude? \n",
    "2. What is the correlation among the dimensions, i.e. demographics, compensation, work style, and employee attitude? \n",
    "3. What is most predictive of attrition among these variables? \n",
    "4. What are some actionable suggestions for reducing attrition? \n",
    "\n",
    "This project is the first research practice of FireHua Consulting LLC. \n",
    "\n",
    "*To run this notebook, download the dataset [here](./data/Cleaned_Employee_Data.xlsx) and make sure it is in the same folder as this notebook.*"
   ]
  },
  {
   "cell_type": "code",
   "execution_count": 30,
   "id": "46f4b50a",
   "metadata": {},
   "outputs": [],
   "source": [
    "# Import packages for reading file\n",
    "import pandas as pd"
   ]
  },
  {
   "cell_type": "markdown",
   "id": "3108f9bf",
   "metadata": {},
   "source": [
    "## Dataset Overview\n",
    "\n",
    "The original dataset contains data in various domains, where some examples include employee IDs, hourly rates, and employee performances. After careful review of data, those of interest are organized into a separate worksheet within the original Excel file. The exact definitions, units, and coding explanations for each variable are included in the worksheet named *\"Variables\"* within the Excel file. To access the full dataset, download [here](./data/Cleaned_Employee_Data.xlsx) and refer to the worksheet named \"**Main Data**.\" \n"
   ]
  },
  {
   "cell_type": "markdown",
   "id": "7983c733",
   "metadata": {},
   "source": [
    "## Data Cleanning\n",
    "\n",
    "While observing data, I categorized them into several dimensions, including **Dependent Variable**, **Demographics**, **Work Style/Mode**, **Work Type/Tenure**, **Compensation/Promotion**, **Employee Attitude**, **Employee Performance**, **Dummy Coded and Other Variables**. With this neatly cleaned dataset, I defined my goal and decided to focus on the correlation between the dependent variable, **Attrition**, and four dimensions (**Demographics**, **Work Style/Mode**, **Compensation/Promotion**, **Employee Attitude**). \n",
    "\n",
    "### Variable Screening\n",
    "\n",
    "Within each dimension, I screened the dataset and excluded invalid variables. Some examples are: \n",
    "* **Hourly rate** was excluded because of its unrealistic figure (66) and missing units. \n",
    "* **Daily rate** and **Monthly rate** are excluded due to their extremely low correlation (*r = 0.02*). \n",
    "* **Employee ID** and other dummy variables were dropped due to their irrelevance.  \n",
    "* **Age** is removed because of its high correlation with **total working years**. \n",
    "\n",
    "Some other variables were removed for similar reasons. In total, 14 variables (including **Attrition**) were retained for data analysis. The variables and their corresponding dimensions are listed below: \n",
    "\n",
    "* **Demographics**: total working years, gender, education, marital status. \n",
    "* **Work Style/Mode**: overtime, work life balance. \n",
    "* **Compensation/Promotion**: monthly income, percent salary hike, stock option level, years since last promotion. \n",
    "* **Employee Attitude**: environment satisfaction, job satisfaction, relationship satisfaction. \n",
    "\n",
    "These new variables are then stored in a separate worksheet named \"*Cleaned Data*\", which is the main file for analysis in this project. "
   ]
  },
  {
   "cell_type": "code",
   "execution_count": 31,
   "id": "a27a6023",
   "metadata": {},
   "outputs": [
    {
     "name": "stdout",
     "output_type": "stream",
     "text": [
      "   Attrition  Total Working Years  Gender  Education  Marital\\nStatus  \\\n",
      "0          1                    8       2          2                1   \n",
      "1          0                   10       1          1                2   \n",
      "2          1                    7       1          2                1   \n",
      "3          0                    8       2          4                2   \n",
      "4          0                    6       1          1                2   \n",
      "\n",
      "   Over Time  Work Life Balance  Monthly Income  Percent Salary Hike  \\\n",
      "0          1                  1            5993                   11   \n",
      "1          0                  3            5130                   23   \n",
      "2          1                  3            2090                   15   \n",
      "3          1                  3            2909                   11   \n",
      "4          0                  3            3468                   12   \n",
      "\n",
      "   Stock Option Level  Years Since Last Promotion  Environment Satisfaction  \\\n",
      "0                   0                           0                         2   \n",
      "1                   1                           1                         3   \n",
      "2                   0                           0                         4   \n",
      "3                   0                           3                         4   \n",
      "4                   1                           2                         1   \n",
      "\n",
      "   Job Satisfaction  Relationship Satisfaction  \n",
      "0                 4                          1  \n",
      "1                 2                          4  \n",
      "2                 3                          2  \n",
      "3                 3                          3  \n",
      "4                 2                          4  \n"
     ]
    }
   ],
   "source": [
    "# Load the cleaned dataset from the uploaded Excel file\n",
    "file_path = \"Cleaned_Employee_Data.xlsx\"\n",
    "df = pd.read_excel(file_path, sheet_name=\"Cleaned Data\")\n",
    "\n",
    "# Show the first few rows of the dataset to confirm successful load\n",
    "print(df.head())"
   ]
  },
  {
   "cell_type": "markdown",
   "id": "9e1062ee",
   "metadata": {},
   "source": [
    "### Reliability Analysis\n",
    "\n",
    "To ensure internal consistency within each dimension, I conducted Cronbach’s alpha analysis (excluding **Demographics**, which are not expected to be consistent)."
   ]
  },
  {
   "cell_type": "code",
   "execution_count": 32,
   "id": "829a54f2",
   "metadata": {},
   "outputs": [
    {
     "name": "stdout",
     "output_type": "stream",
     "text": [
      "Cronbach’s alpha of work style: -0.05\n",
      "95% Confidence Interval for work style: [-0.164  0.052]\n",
      "Cronbach’s alpha of compensation: 0.001\n",
      "95% Confidence Interval for compensation: [-0.086  0.081]\n",
      "Cronbach’s alpha of employee attitude: -0.012\n",
      "95% Confidence Interval for employee attitude: [-0.105  0.075]\n"
     ]
    }
   ],
   "source": [
    "# import package for calculating Conbach's alpha \n",
    "import pingouin as pg\n",
    "\n",
    "# define variables \n",
    "work_style = [\"Over Time\", \"Work Life Balance\"]\n",
    "compensation = [\"Monthly Income\", \"Percent Salary Hike\", \"Stock Option Level\", \"Years Since Last Promotion\"]\n",
    "satisfaction = [\"Environment Satisfaction\", \"Job Satisfaction\", \"Relationship Satisfaction\"]\n",
    "\n",
    "# run reliability analysis\n",
    "alpha_style, ci_style = pg.cronbach_alpha(data = df[work_style])\n",
    "alpha_comp, ci_comp = pg.cronbach_alpha(data = df[compensation])\n",
    "alpha_sat, ci_sat = pg.cronbach_alpha(data = df[satisfaction])\n",
    "\n",
    "# print results \n",
    "print(f\"Cronbach’s alpha of work style: {round(alpha_style, 3)}\")\n",
    "print(f\"95% Confidence Interval for work style: {ci_style}\")\n",
    "print(f\"Cronbach’s alpha of compensation: {round(alpha_comp, 3)}\")\n",
    "print(f\"95% Confidence Interval for compensation: {ci_comp}\")\n",
    "print(f\"Cronbach’s alpha of employee attitude: {round(alpha_sat, 3)}\")\n",
    "print(f\"95% Confidence Interval for employee attitude: {ci_sat}\")\n"
   ]
  },
  {
   "cell_type": "markdown",
   "id": "fdc65ef0",
   "metadata": {},
   "source": [
    "Although the variables were predicted to be relevant to each other and measure the same construct, the extremely low Cronbach's alpha ($\\alpha$ = -0.086) indicates that the variables are not valid to predict by groups. Therefore, I proceeded with correlational analysis for attrition and each variable separately. "
   ]
  },
  {
   "cell_type": "markdown",
   "id": "c3a6609e",
   "metadata": {},
   "source": [
    "## Correlational Analysis\n",
    "\n",
    "### Create Functions\n",
    "\n",
    "To answer the first question (*What is the correlation between attrition and demographics, compensation, work style, and employee attitude?*), I ran a correlational analysis that provides both the correlation coefficients and p-value (set to *p<0.05*) indicating their statistical significance. The correlational analysis used in this project is **Pearson coefficient**. The first step is to create a function that runs correlational analysis between attrition and all other variables. "
   ]
  },
  {
   "cell_type": "code",
   "execution_count": 33,
   "id": "24d08cfe",
   "metadata": {},
   "outputs": [],
   "source": [
    "# import packages \n",
    "from scipy.stats import pearsonr\n",
    "\n",
    "# function to run correlational analysis between attrition and all other variables \n",
    "def get_correlation_table(df, target, predictors, significance_level=0.05):\n",
    "    results = []\n",
    "\n",
    "    for col in predictors:\n",
    "        if col == target:\n",
    "            continue\n",
    "        try:\n",
    "            r, p = pearsonr(df[target], df[col])\n",
    "            results.append({\n",
    "                \"Variable\": col,\n",
    "                \"Correlation (r)\": round(r, 2),\n",
    "                \"P-value\": round(p, 5),\n",
    "                \"Significant (p < 0.05)\": \"Yes\" if p < significance_level else \"No\"\n",
    "            })\n",
    "        except Exception as e:\n",
    "            results.append({\n",
    "                \"Variable\": col,\n",
    "                \"Correlation (r)\": \"ERROR\",\n",
    "                \"P-value\": str(e),\n",
    "                \"Significant (p < 0.05)\": \"No\"\n",
    "            })\n",
    "\n",
    "    return pd.DataFrame(results)"
   ]
  },
  {
   "cell_type": "markdown",
   "id": "8e0904ca",
   "metadata": {},
   "source": [
    "### Run Function and Get Results\n",
    "\n",
    "With the function ready, we can start the actual data analysis. It includes three parts: \n",
    "1. Define variables of interest \n",
    "2. Run correlational analysis\n",
    "3. Store results into a new Excel file "
   ]
  },
  {
   "cell_type": "code",
   "execution_count": 34,
   "id": "3cea2fa4",
   "metadata": {},
   "outputs": [
    {
     "name": "stdout",
     "output_type": "stream",
     "text": [
      "                      Variable  Correlation (r)  P-value  \\\n",
      "0          Total Working Years            -0.17  0.00000   \n",
      "1                       Gender            -0.03  0.25909   \n",
      "2                    Education            -0.03  0.22932   \n",
      "3              Marital\\nStatus            -0.16  0.00000   \n",
      "4                    Over Time             0.25  0.00000   \n",
      "5            Work Life Balance            -0.06  0.01421   \n",
      "6               Monthly Income            -0.16  0.00000   \n",
      "7          Percent Salary Hike            -0.01  0.60561   \n",
      "8           Stock Option Level            -0.14  0.00000   \n",
      "9   Years Since Last Promotion            -0.03  0.20579   \n",
      "10    Environment Satisfaction            -0.10  0.00007   \n",
      "11            Job Satisfaction            -0.10  0.00007   \n",
      "12   Relationship Satisfaction            -0.05  0.07871   \n",
      "\n",
      "   Significant (p < 0.05)  \n",
      "0                     Yes  \n",
      "1                      No  \n",
      "2                      No  \n",
      "3                     Yes  \n",
      "4                     Yes  \n",
      "5                     Yes  \n",
      "6                     Yes  \n",
      "7                      No  \n",
      "8                     Yes  \n",
      "9                      No  \n",
      "10                    Yes  \n",
      "11                    Yes  \n",
      "12                     No  \n"
     ]
    }
   ],
   "source": [
    "# run correlational analysis\n",
    "correlations = get_correlation_table(df, \"Attrition\", df)\n",
    "print(correlations)"
   ]
  },
  {
   "cell_type": "markdown",
   "id": "940a2bab",
   "metadata": {},
   "source": [
    "### Excel Visualization\n",
    "With the results of the correlational analysis, I generated a diagram using **matplotlib** package. \n"
   ]
  },
  {
   "cell_type": "code",
   "execution_count": 35,
   "id": "0d228946",
   "metadata": {},
   "outputs": [
    {
     "data": {
      "image/png": "[encoded data removed]",
      "text/plain": [
       "<Figure size 1000x600 with 1 Axes>"
      ]
     },
     "metadata": {},
     "output_type": "display_data"
    }
   ],
   "source": [
    "# import packages\n",
    "import matplotlib.pyplot as plt\n",
    "import seaborn as sns\n",
    "\n",
    "# Sort by correlation value\n",
    "correlation_df = correlations.copy()\n",
    "correlation_df = correlation_df.sort_values(by=\"Correlation (r)\", ascending=False)\n",
    "\n",
    "# Set up the plot\n",
    "plt.figure(figsize=(10, 6))\n",
    "sns.set(style=\"white\")\n",
    "\n",
    "# Add a new column for color grouping\n",
    "correlation_df[\"Significance Group\"] = correlation_df[\"Significant (p < 0.05)\"]\n",
    "\n",
    "# Create barplot with `hue` to control color by significance\n",
    "ax = sns.barplot(\n",
    "    x=\"Correlation (r)\",\n",
    "    y=\"Variable\",\n",
    "    hue=\"Significance Group\",\n",
    "    data=correlation_df,\n",
    "    dodge=False,\n",
    "    palette={\"Yes\": \"salmon\", \"No\": \"lightgray\"},\n",
    "    legend=False  # hides legend since you already know what colors mean\n",
    ")\n",
    "\n",
    "# Add text labels for r values\n",
    "for i, row in correlation_df.iterrows():\n",
    "    offset = 0.02 if row[\"Correlation (r)\"] >= 0 else -0.02\n",
    "    ha = 'left' if row[\"Correlation (r)\"] >= 0 else 'right'\n",
    "    ax.text(\n",
    "        row[\"Correlation (r)\"] + offset,\n",
    "        i,\n",
    "        f'{row[\"Correlation (r)\"]:.2f}',\n",
    "        color='black',\n",
    "        va='center',\n",
    "        ha=ha,\n",
    "        fontsize=10\n",
    "    )\n",
    "\n",
    "# Formatting\n",
    "plt.axvline(x=0, color='black', linewidth=0.5)  # vertical line at 0\n",
    "plt.title(\"Correlation with Attrition (Colored by Significance)\", fontsize=14)\n",
    "plt.xlabel(\"Correlation Coefficient (r)\")\n",
    "plt.ylabel(\"\")\n",
    "plt.tight_layout()\n",
    "plt.show()\n"
   ]
  },
  {
   "cell_type": "markdown",
   "id": "06208d99",
   "metadata": {},
   "source": [
    "\n",
    "**Observations**: \n",
    "- 9 out of the 13 variables have statistically significant (*p < 0.05*) correlation with attrition, while only 6 are considered meaningful with a threshold of *r = .1* for meaningful correlation. The variables that are both significant and meaningful include **Over Time**, **Total Working Years**, **Monthly Income**, **Age**, **Total Satisfaction Score**, and **Stock Option Level**. \n",
    "- Out of the variables that are significant and meaningful, only **Over Time** is positively correlated with attrition, with a correlation of *r = .25*. While significant, none of the negative correlations are as high as **Over Time**, with the highest being **Total Working Years** (*r = -.17*). \n",
    "- Although **Environment Satisfaction**, **Job Satisfaction**, and **Relationship Satisfaction** appear either insignificant or not meaningful, the composite score **Total Satisfaction Score** is negatively correlated with attrition with a correlational coefficient of *r = -.15*. \n",
    "- 2 variables under the dimension of **Compensation** appear to be significant and meaningful, including **Total Working Years** (*r = -.17*) and **Monthly Income** (*r = -.16*). \n",
    "\n",
    "**Takeaways**: \n",
    "- **Over Time** likely has a relatively strong impact on attrition in this company and needs further investigation for causational effect. \n",
    "- **Compensation** seems to have a contributing impact on attrition, despite its smaller correlational coefficient compared to **Over Time**\n",
    "- Employee attitude is complicated and should be considered as a whole. The relationship between **Total Satisfaction Score** and its sub-variables is worth digging into. "
   ]
  },
  {
   "cell_type": "markdown",
   "id": "74c3cb1c",
   "metadata": {},
   "source": [
    "## Next Steps...\n",
    "\n",
    "Now that we have identified the variables that have significant and meaningful correlations with attrition, we need to investigate the causational effects. Therefore, the next step is to conduct *regression analysis* to test the predictive effects of these variables. \n"
   ]
  }
 ],
 "metadata": {
  "kernelspec": {
   "display_name": "Python 3",
   "language": "python",
   "name": "python3"
  },
  "language_info": {
   "codemirror_mode": {
    "name": "ipython",
    "version": 3
   },
   "file_extension": ".py",
   "mimetype": "text/x-python",
   "name": "python",
   "nbconvert_exporter": "python",
   "pygments_lexer": "ipython3",
   "version": "3.10.7"
  }
 },
 "nbformat": 4,
 "nbformat_minor": 5
}
